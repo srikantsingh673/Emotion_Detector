{
 "cells": [
  {
   "cell_type": "code",
   "execution_count": null,
   "metadata": {
    "colab": {
     "base_uri": "https://localhost:8080/"
    },
    "id": "dOTsgxMSL5gD",
    "outputId": "f0a1be85-3a49-44eb-eb17-f1bbaa351fed"
   },
   "outputs": [],
   "source": [
    "%pip install opencv-python\n",
    "%pip install scikit-learn\n",
    "%pip install tensorflow\n",
    "%pip install matplotlib"
   ]
  },
  {
   "cell_type": "code",
   "execution_count": null,
   "metadata": {
    "colab": {
     "base_uri": "https://localhost:8080/"
    },
    "id": "t7-bb48-t0-l",
    "outputId": "2a95a6e1-16c5-4140-a264-50f96ec63cb0"
   },
   "outputs": [],
   "source": [
    "import cv2\n",
    "import matplotlib.pyplot as plt\n",
    "import os\n",
    "from glob import glob\n",
    "import random\n",
    "\n",
    "from tensorflow.keras.preprocessing.image import ImageDataGenerator\n",
    "from tensorflow.keras.layers import Dense, Input, Dropout, Flatten, Conv2D\n",
    "from tensorflow.keras.layers import BatchNormalization, Activation, MaxPooling2D\n",
    "from tensorflow.keras.models import Model, Sequential\n",
    "from tensorflow.keras.optimizers import Adam\n",
    "from tensorflow.keras.callbacks import ModelCheckpoint, ReduceLROnPlateau\n",
    "from tensorflow.keras.utils import plot_model\n",
    "\n",
    "from IPython.display import SVG, Image\n",
    "import tensorflow as tf\n",
    "print(\"Tensorflow Version\", tf.__version__)\n"
   ]
  },
  {
   "cell_type": "code",
   "execution_count": null,
   "metadata": {
    "colab": {
     "base_uri": "https://localhost:8080/",
     "height": 1000
    },
    "id": "BlSeFsmOu4WB",
    "outputId": "7d115aa6-1ca5-49f4-843e-795f812803aa"
   },
   "outputs": [],
   "source": [
    "images  = glob(\"train/**/**\")\n",
    "for i in range(10):\n",
    "  image = random.choice(images)\n",
    "  plt.figure(figsize=(12,12))\n",
    "  plt.subplot(6, 2, 1)\n",
    "  plt.imshow(cv2.imread(image));plt.axis('off')"
   ]
  },
  {
   "cell_type": "code",
   "execution_count": null,
   "metadata": {
    "colab": {
     "base_uri": "https://localhost:8080/"
    },
    "id": "x5nAYo2RH4CI",
    "outputId": "a93aaab7-5979-4f95-bddc-854e8413054a"
   },
   "outputs": [],
   "source": [
    "img_size = 48\n",
    "batch_size = 64\n",
    "datagen_train = ImageDataGenerator()\n",
    "train_generator = datagen_train.flow_from_directory(\"train/\", target_size = (img_size, img_size),color_mode = \"grayscale\",batch_size = batch_size, class_mode = \"categorical\", shuffle = True)\n",
    "\n",
    "datagen_validation = ImageDataGenerator()\n",
    "validation_generator = datagen_train.flow_from_directory(\"test/\", target_size = (img_size, img_size),color_mode = \"grayscale\",batch_size = batch_size, class_mode = \"categorical\", shuffle = True)\n"
   ]
  },
  {
   "cell_type": "code",
   "execution_count": null,
   "metadata": {
    "id": "xDONVqxHDxTL"
   },
   "outputs": [],
   "source": [
    "def Convolution(input_tensor, filters, kernel_size):\n",
    "  x = Conv2D(filters = filters, kernel_size = kernel_size, padding = \"same\")(input_tensor)\n",
    "  x = BatchNormalization()(x)\n",
    "  x = MaxPooling2D(pool_size = (2,2))(x)\n",
    "  x = Dropout(0.25)(x)\n",
    "\n",
    "  return x"
   ]
  },
  {
   "cell_type": "code",
   "execution_count": null,
   "metadata": {
    "id": "xLng4iTBPzLQ"
   },
   "outputs": [],
   "source": [
    "def Dense_f(input_tensor, nodes):\n",
    "  x = Dense(nodes)(input_tensor)\n",
    "  x = BatchNormalization()(x)\n",
    "  x = Activation('relu')(x)\n",
    "  x = Dropout(0.25)(x)\n",
    "\n",
    "  return x"
   ]
  },
  {
   "cell_type": "code",
   "execution_count": null,
   "metadata": {
    "id": "j1-dGhWbQeGg"
   },
   "outputs": [],
   "source": [
    "def model_fer(input_shape):\n",
    "  inputs = Input(input_shape)\n",
    "  conv_1 = Convolution(inputs, 32,(3,3))\n",
    "  conv_2 = Convolution(inputs, 64,(5,5))\n",
    "  conv_3 = Convolution(inputs, 128,(3,3))\n",
    "\n",
    "  flatten = Flatten()(conv_3)\n",
    "  dense_1 = Dense_f(flatten, 256)\n",
    "\n",
    "  output = Dense(7, activation = \"softmax\")(dense_1)\n",
    "  model = Model(inputs = [inputs], outputs = [output])\n",
    "\n",
    "  model.compile(loss = ['categorical_crossentropy'], optimizer = 'adam', metrics = ['accuracy'])\n",
    "\n",
    "  return model"
   ]
  },
  {
   "cell_type": "code",
   "execution_count": null,
   "metadata": {
    "colab": {
     "base_uri": "https://localhost:8080/"
    },
    "id": "4duQFpMGTku5",
    "outputId": "2b6e3e11-03a0-44f1-f349-942b48bbd14a"
   },
   "outputs": [],
   "source": [
    "model = model_fer((48,48,1))\n",
    "model.summary()"
   ]
  },
  {
   "cell_type": "code",
   "execution_count": null,
   "metadata": {
    "id": "SAKY9EkXghyi"
   },
   "outputs": [],
   "source": [
    "epochs = 15\n",
    "steps_per_epoch = train_generator.n//train_generator.batch_size\n",
    "validation_steps = validation_generator.n//validation_generator.batch_size\n",
    "\n",
    "checkpoint = ModelCheckpoint(\"model_weight.h5\", monitor = 'val_accuracy', save_weight_only = True, mode = 'max', verbose = 1)\n",
    "callbacks = [checkpoint]"
   ]
  },
  {
   "cell_type": "code",
   "execution_count": null,
   "metadata": {
    "colab": {
     "base_uri": "https://localhost:8080/"
    },
    "id": "dLCCvU8ylI9j",
    "outputId": "afde5f2c-ab20-4b90-ef68-a084d4751567"
   },
   "outputs": [],
   "source": [
    "history = model.fit(\n",
    "    x = train_generator,\n",
    "    steps_per_epoch = steps_per_epoch,\n",
    "    epochs = epochs,\n",
    "    validation_data = validation_generator,\n",
    "    validation_steps = validation_steps,\n",
    "  callbacks = callbacks)"
   ]
  },
  {
   "cell_type": "code",
   "execution_count": null,
   "metadata": {
    "id": "vKFIbL3jnI6S"
   },
   "outputs": [],
   "source": [
    "model.evaluate(validation_generator)"
   ]
  },
  {
   "cell_type": "code",
   "execution_count": null,
   "metadata": {
    "id": "kIsxl8U4nfNs"
   },
   "outputs": [],
   "source": [
    "plt.plot(history.history['loss'])\n",
    "plt.plot(history.history['val_loss'])\n",
    "plt.title('Model Loss')\n",
    "plt.legend(['Train', 'Validation'],loc = 'upper left')\n",
    "plt.subplots_adjust(top=1.0, bottom=0.0,right=0.95, left=0.0, hspace=0.25, wspace=0.35)"
   ]
  },
  {
   "cell_type": "code",
   "execution_count": null,
   "metadata": {},
   "outputs": [],
   "source": [
    "plt.plot(history.history['accuracy'])\n",
    "plt.plot(history.history['val_accuracy'])\n",
    "plt.title('Model Accuracy')\n",
    "plt.legend(['Train', 'Validation'],loc = 'upper left')\n",
    "plt.subplots_adjust(top=1.0, bottom=0.0,right=0.95, left=0.0, hspace=0.25, wspace=0.35)"
   ]
  },
  {
   "cell_type": "code",
   "execution_count": null,
   "metadata": {},
   "outputs": [],
   "source": [
    "model_json = model.to_json()\n",
    "with open(\"model_a.json\", \"w\") as json_file:\n",
    "    json_file.write(model_json)"
   ]
  }
 ],
 "metadata": {
  "accelerator": "GPU",
  "colab": {
   "gpuType": "T4",
   "provenance": []
  },
  "kernelspec": {
   "display_name": "Python 3",
   "language": "python",
   "name": "python3"
  },
  "language_info": {
   "codemirror_mode": {
    "name": "ipython",
    "version": 3
   },
   "file_extension": ".py",
   "mimetype": "text/x-python",
   "name": "python",
   "nbconvert_exporter": "python",
   "pygments_lexer": "ipython3",
   "version": "3.11.4"
  }
 },
 "nbformat": 4,
 "nbformat_minor": 1
}
